{
 "cells": [
  {
   "cell_type": "code",
   "execution_count": 1,
   "id": "5b62dc48-5bfb-49a0-9fa9-6c709fdbd328",
   "metadata": {
    "deletable": true,
    "editable": true,
    "frozen": false
   },
   "outputs": [],
   "source": [
    "import geopandas as gpd"
   ]
  },
  {
   "cell_type": "code",
   "execution_count": 2,
   "id": "dcdca01d-37c1-41f0-81fd-9d157c277cc3",
   "metadata": {
    "deletable": true,
    "editable": true,
    "frozen": false
   },
   "outputs": [
    {
     "data": {
      "text/plain": [
       "'1.0.1'"
      ]
     },
     "execution_count": 2,
     "metadata": {},
     "output_type": "execute_result"
    }
   ],
   "source": [
    "gpd.__version__"
   ]
  },
  {
   "cell_type": "code",
   "execution_count": 3,
   "id": "1caa6db7-ec86-4a90-8147-cf6e4ae8213b",
   "metadata": {
    "deletable": true,
    "editable": true,
    "frozen": false
   },
   "outputs": [
    {
     "name": "stdout",
     "output_type": "stream",
     "text": [
      "3.10.2\n"
     ]
    }
   ],
   "source": [
    "from osgeo import gdal\n",
    "print(gdal.__version__)"
   ]
  },
  {
   "cell_type": "code",
   "execution_count": 4,
   "id": "21ab5ca2-d52f-451c-adcb-9cbeaf04b531",
   "metadata": {
    "deletable": true,
    "editable": true,
    "frozen": false
   },
   "outputs": [],
   "source": [
    "import pandas as pd"
   ]
  },
  {
   "cell_type": "code",
   "execution_count": 5,
   "id": "1ca1dc22-8985-45ad-9476-83e1c316ab15",
   "metadata": {
    "deletable": true,
    "editable": true,
    "frozen": false
   },
   "outputs": [
    {
     "data": {
      "text/plain": [
       "'2.2.3'"
      ]
     },
     "execution_count": 5,
     "metadata": {},
     "output_type": "execute_result"
    }
   ],
   "source": [
    "pd.__version__"
   ]
  },
  {
   "cell_type": "code",
   "execution_count": 6,
   "id": "c2b01e68",
   "metadata": {
    "deletable": true,
    "editable": true,
    "frozen": false
   },
   "outputs": [],
   "source": [
    "import rasterio"
   ]
  },
  {
   "cell_type": "code",
   "execution_count": 7,
   "id": "a55d41ec",
   "metadata": {
    "deletable": true,
    "editable": true,
    "frozen": false
   },
   "outputs": [],
   "source": [
    "from rasterio.windows import Window"
   ]
  },
  {
   "cell_type": "code",
   "execution_count": 8,
   "id": "aad5f0bd",
   "metadata": {
    "deletable": true,
    "editable": true,
    "frozen": false
   },
   "outputs": [],
   "source": [
    "from osgeo import gdal\n",
    "from osgeo import ogr\n",
    "from osgeo import osr\n",
    "from osgeo import gdal_array\n",
    "from osgeo import gdalconst"
   ]
  },
  {
   "cell_type": "code",
   "execution_count": 9,
   "id": "896d40f7",
   "metadata": {
    "deletable": true,
    "editable": true,
    "frozen": false
   },
   "outputs": [],
   "source": [
    "import folium"
   ]
  },
  {
   "cell_type": "code",
   "execution_count": 10,
   "id": "adbf9a24",
   "metadata": {
    "deletable": true,
    "editable": true,
    "frozen": false
   },
   "outputs": [],
   "source": [
    "import seaborn"
   ]
  },
  {
   "cell_type": "code",
   "execution_count": 11,
   "id": "9d8c2fba",
   "metadata": {
    "deletable": true,
    "editable": true,
    "frozen": false
   },
   "outputs": [
    {
     "name": "stdout",
     "output_type": "stream",
     "text": [
      "# packages in environment at D:\\GeoSpatial\\anaconda3\\envs\\geo_env_20250322:\n",
      "#\n",
      "# Name                    Version                   Build  Channel\n",
      "_libavif_api              1.2.1                h57928b3_0    conda-forge\n",
      "_openmp_mutex             4.5                       2_gnu    conda-forge\n",
      "affine                    2.4.0              pyhd8ed1ab_1    conda-forge\n",
      "aiohappyeyeballs          2.6.1              pyhd8ed1ab_0    conda-forge\n",
      "aiohttp                   3.11.14         py310h38315fa_0    conda-forge\n",
      "aiosignal                 1.3.2              pyhd8ed1ab_0    conda-forge\n",
      "anyio                     4.9.0              pyh29332c3_0    conda-forge\n",
      "aom                       3.9.1                he0c23c2_0    conda-forge\n",
      "argon2-cffi               23.1.0             pyhd8ed1ab_1    conda-forge\n",
      "argon2-cffi-bindings      21.2.0          py310ha8f682b_5    conda-forge\n",
      "arrow                     1.3.0              pyhd8ed1ab_1    conda-forge\n",
      "asttokens                 3.0.0              pyhd8ed1ab_1    conda-forge\n",
      "async-lru                 2.0.5              pyh29332c3_0    conda-forge\n",
      "async-timeout             5.0.1              pyhd8ed1ab_1    conda-forge\n",
      "attrs                     25.3.0             pyh71513ae_0    conda-forge\n",
      "babel                     2.17.0             pyhd8ed1ab_0    conda-forge\n",
      "beautifulsoup4            4.13.3             pyha770c72_0    conda-forge\n",
      "bleach                    6.2.0              pyh29332c3_4    conda-forge\n",
      "bleach-with-css           6.2.0                h82add2a_4    conda-forge\n",
      "blosc                     1.21.6               hfd34d9b_1    conda-forge\n",
      "bqplot                    0.12.43            pyhd8ed1ab_1    conda-forge\n",
      "branca                    0.8.1              pyhd8ed1ab_0    conda-forge\n",
      "brotli                    1.1.0                h2466b09_2    conda-forge\n",
      "brotli-bin                1.1.0                h2466b09_2    conda-forge\n",
      "brotli-python             1.1.0           py310h9e98ed7_2    conda-forge\n",
      "bzip2                     1.0.8                h2466b09_7    conda-forge\n",
      "c-ares                    1.34.4               h2466b09_0    conda-forge\n",
      "ca-certificates           2025.1.31            h56e8100_0    conda-forge\n",
      "cached-property           1.5.2                hd8ed1ab_1    conda-forge\n",
      "cached_property           1.5.2              pyha770c72_1    conda-forge\n",
      "cachetools                5.5.2              pyhd8ed1ab_0    conda-forge\n",
      "cairo                     1.18.4               h5782bbf_0    conda-forge\n",
      "certifi                   2025.1.31          pyhd8ed1ab_0    conda-forge\n",
      "cffi                      1.17.1          py310ha8f682b_0    conda-forge\n",
      "cftime                    1.6.4           py310hb0944cc_1    conda-forge\n",
      "charset-normalizer        3.4.1              pyhd8ed1ab_0    conda-forge\n",
      "click                     8.1.8              pyh7428d3b_0    conda-forge\n",
      "click-plugins             1.1.1              pyhd8ed1ab_1    conda-forge\n",
      "cligj                     0.7.2              pyhd8ed1ab_2    conda-forge\n",
      "colorama                  0.4.6              pyhd8ed1ab_1    conda-forge\n",
      "colour                    0.1.5              pyhd8ed1ab_2    conda-forge\n",
      "comm                      0.2.2              pyhd8ed1ab_1    conda-forge\n",
      "contourpy                 1.3.1           py310hc19bc0b_0    conda-forge\n",
      "cpython                   3.10.16         py310hd8ed1ab_1    conda-forge\n",
      "cryptography              44.0.2          py310h25a5809_0    conda-forge\n",
      "cycler                    0.12.1             pyhd8ed1ab_1    conda-forge\n",
      "dav1d                     1.2.1                hcfcfb64_0    conda-forge\n",
      "debugpy                   1.8.13          py310h9e98ed7_0    conda-forge\n",
      "decorator                 5.2.1              pyhd8ed1ab_0    conda-forge\n",
      "defusedxml                0.7.1              pyhd8ed1ab_0    conda-forge\n",
      "earthengine-api           1.5.7              pyhd8ed1ab_0    conda-forge\n",
      "ee_extra                  0.0.15             pyhd8ed1ab_0    conda-forge\n",
      "eerepr                    0.1.1              pyhd8ed1ab_0    conda-forge\n",
      "exceptiongroup            1.2.2              pyhd8ed1ab_1    conda-forge\n",
      "executing                 2.1.0              pyhd8ed1ab_1    conda-forge\n",
      "ffmpeg                    7.1.1           gpl_h1be5d69_701    conda-forge\n",
      "ffmpeg-python             0.2.0              pyhff2d567_1    conda-forge\n",
      "filelock                  3.18.0             pyhd8ed1ab_0    conda-forge\n",
      "fiona                     1.10.1          py310hf80745b_3    conda-forge\n",
      "folium                    0.19.5             pyhd8ed1ab_0    conda-forge\n",
      "font-ttf-dejavu-sans-mono 2.37                 hab24e00_0    conda-forge\n",
      "font-ttf-inconsolata      3.000                h77eed37_0    conda-forge\n",
      "font-ttf-source-code-pro  2.038                h77eed37_0    conda-forge\n",
      "font-ttf-ubuntu           0.83                 h77eed37_3    conda-forge\n",
      "fontconfig                2.15.0               h765892d_1    conda-forge\n",
      "fonts-conda-ecosystem     1                             0    conda-forge\n",
      "fonts-conda-forge         1                             0    conda-forge\n",
      "fonttools                 4.56.0          py310h38315fa_0    conda-forge\n",
      "fqdn                      1.5.1              pyhd8ed1ab_1    conda-forge\n",
      "freetype                  2.13.3               h0b5ce68_0    conda-forge\n",
      "freexl                    2.0.0                hf297d47_2    conda-forge\n",
      "fribidi                   1.0.10               h8d14728_0    conda-forge\n",
      "frozenlist                1.5.0           py310h38315fa_1    conda-forge\n",
      "future                    1.0.0              pyhd8ed1ab_2    conda-forge\n",
      "gdal                      3.10.2          py310h759aa94_4    conda-forge\n",
      "gdk-pixbuf                2.42.12              hed59a49_0    conda-forge\n",
      "gdown                     5.2.0              pyhd8ed1ab_1    conda-forge\n",
      "geeadd                    0.5.6              pyhd8ed1ab_0    conda-forge\n",
      "geemap                    0.35.3             pyhd8ed1ab_0    conda-forge\n",
      "geocoder                  1.38.1             pyhd8ed1ab_2    conda-forge\n",
      "geojson                   3.2.0              pyhd8ed1ab_0    conda-forge\n",
      "geopandas                 1.0.1              pyhd8ed1ab_3    conda-forge\n",
      "geopandas-base            1.0.1              pyha770c72_3    conda-forge\n",
      "geos                      3.13.1               h9ea8674_0    conda-forge\n",
      "geotiff                   1.7.4                h86c3423_2    conda-forge\n",
      "google-api-core           2.24.2             pyhd8ed1ab_0    conda-forge\n",
      "google-api-python-client  2.165.0            pyhff2d567_0    conda-forge\n",
      "google-auth               2.38.0             pyhd8ed1ab_0    conda-forge\n",
      "google-auth-httplib2      0.2.0              pyhd8ed1ab_1    conda-forge\n",
      "google-cloud-core         2.4.3              pyhd8ed1ab_0    conda-forge\n",
      "google-cloud-storage      3.1.0              pyhd8ed1ab_0    conda-forge\n",
      "google-crc32c             1.7.0           py310h7538eda_0    conda-forge\n",
      "google-resumable-media    2.7.2              pyhd8ed1ab_2    conda-forge\n",
      "googleapis-common-protos  1.69.2             pyhd8ed1ab_0    conda-forge\n",
      "graphite2                 1.3.13            h63175ca_1003    conda-forge\n",
      "grpcio                    1.71.0          py310h33f62cb_0    conda-forge\n",
      "h11                       0.14.0             pyhd8ed1ab_1    conda-forge\n",
      "h2                        4.2.0              pyhd8ed1ab_0    conda-forge\n",
      "harfbuzz                  10.4.0               h9e37d49_0    conda-forge\n",
      "hdf4                      4.2.15               h5557f11_7    conda-forge\n",
      "hdf5                      1.14.4          nompi_hd5d9e70_105    conda-forge\n",
      "hpack                     4.1.0              pyhd8ed1ab_0    conda-forge\n",
      "httpcore                  1.0.7              pyh29332c3_1    conda-forge\n",
      "httplib2                  0.22.0             pyhd8ed1ab_1    conda-forge\n",
      "httpx                     0.28.1             pyhd8ed1ab_0    conda-forge\n",
      "hyperframe                6.1.0              pyhd8ed1ab_0    conda-forge\n",
      "icu                       75.1                 he0c23c2_0    conda-forge\n",
      "idna                      3.10               pyhd8ed1ab_1    conda-forge\n",
      "importlib-metadata        8.6.1              pyha770c72_0    conda-forge\n",
      "importlib_resources       6.5.2              pyhd8ed1ab_0    conda-forge\n",
      "intel-openmp              2024.2.1          h57928b3_1083    conda-forge\n",
      "ipyevents                 2.0.2              pyh80e38bb_1    conda-forge\n",
      "ipyfilechooser            0.6.0              pyhd8ed1ab_0    conda-forge\n",
      "ipykernel                 6.29.5             pyh4bbf305_0    conda-forge\n",
      "ipyleaflet                0.19.2             pyhd8ed1ab_1    conda-forge\n",
      "ipython                   8.34.0             pyh9ab4c32_0    conda-forge\n",
      "ipytree                   0.2.2              pyhd8ed1ab_1    conda-forge\n",
      "ipywidgets                8.1.5              pyhd8ed1ab_1    conda-forge\n",
      "isoduration               20.11.0            pyhd8ed1ab_1    conda-forge\n",
      "jedi                      0.19.2             pyhd8ed1ab_1    conda-forge\n",
      "jinja2                    3.1.6              pyhd8ed1ab_0    conda-forge\n",
      "joblib                    1.4.2              pyhd8ed1ab_1    conda-forge\n",
      "json5                     0.10.0             pyhd8ed1ab_1    conda-forge\n",
      "jsonpointer               3.0.0           py310h5588dad_1    conda-forge\n",
      "jsonschema                4.23.0             pyhd8ed1ab_1    conda-forge\n",
      "jsonschema-specifications 2024.10.1          pyhd8ed1ab_1    conda-forge\n",
      "jsonschema-with-format-nongpl 4.23.0               hd8ed1ab_1    conda-forge\n",
      "jupyter                   1.1.1              pyhd8ed1ab_1    conda-forge\n",
      "jupyter-lsp               2.2.5              pyhd8ed1ab_1    conda-forge\n",
      "jupyter_client            8.6.3              pyhd8ed1ab_1    conda-forge\n",
      "jupyter_console           6.6.3              pyhd8ed1ab_1    conda-forge\n",
      "jupyter_core              5.7.2              pyh5737063_1    conda-forge\n",
      "jupyter_events            0.12.0             pyh29332c3_0    conda-forge\n",
      "jupyter_leaflet           0.19.2             pyhd8ed1ab_1    conda-forge\n",
      "jupyter_server            2.15.0             pyhd8ed1ab_0    conda-forge\n",
      "jupyter_server_terminals  0.5.3              pyhd8ed1ab_1    conda-forge\n",
      "jupyterlab                4.3.6              pyhd8ed1ab_0    conda-forge\n",
      "jupyterlab_pygments       0.3.0              pyhd8ed1ab_2    conda-forge\n",
      "jupyterlab_server         2.27.3             pyhd8ed1ab_1    conda-forge\n",
      "jupyterlab_widgets        3.0.13             pyhd8ed1ab_1    conda-forge\n",
      "kiwisolver                1.4.7           py310hc19bc0b_0    conda-forge\n",
      "krb5                      1.21.3               hdf4eb48_0    conda-forge\n",
      "lcms2                     2.17                 hbcf6048_0    conda-forge\n",
      "lerc                      4.0.0                h63175ca_0    conda-forge\n",
      "libabseil                 20250127.1      cxx17_h4eb7d71_0    conda-forge\n",
      "libaec                    1.1.3                h63175ca_0    conda-forge\n",
      "libarchive                3.7.7                h979ed78_3    conda-forge\n",
      "libavif16                 1.2.1                h62bbbde_0    conda-forge\n",
      "libblas                   3.9.0           31_h641d27c_mkl    conda-forge\n",
      "libbrotlicommon           1.1.0                h2466b09_2    conda-forge\n",
      "libbrotlidec              1.1.0                h2466b09_2    conda-forge\n",
      "libbrotlienc              1.1.0                h2466b09_2    conda-forge\n",
      "libcblas                  3.9.0           31_h5e41251_mkl    conda-forge\n",
      "libcrc32c                 1.1.2                h0e60522_0    conda-forge\n",
      "libcurl                   8.12.1               h88aaa65_0    conda-forge\n",
      "libde265                  1.0.15               h91493d7_0    conda-forge\n",
      "libdeflate                1.23                 h9062f6e_0    conda-forge\n",
      "libexpat                  2.6.4                he0c23c2_0    conda-forge\n",
      "libffi                    3.4.6                h537db12_0    conda-forge\n",
      "libgcc                    14.2.0               h1383e82_2    conda-forge\n",
      "libgdal-core              3.10.2               h3cd83dc_4    conda-forge\n",
      "libglib                   2.82.2               h7025463_1    conda-forge\n",
      "libgomp                   14.2.0               h1383e82_2    conda-forge\n",
      "libgrpc                   1.71.0               h35301be_0    conda-forge\n",
      "libheif                   1.19.7          gpl_h2684147_100    conda-forge\n",
      "libhwloc                  2.11.2          default_ha69328c_1001    conda-forge\n",
      "libiconv                  1.18                 h135ad9c_1    conda-forge\n",
      "libintl                   0.22.5               h5728263_3    conda-forge\n",
      "libjpeg-turbo             3.0.0                hcfcfb64_1    conda-forge\n",
      "libkml                    1.3.0             h538826c_1021    conda-forge\n",
      "liblapack                 3.9.0           31_h1aa476e_mkl    conda-forge\n",
      "liblzma                   5.6.4                h2466b09_0    conda-forge\n",
      "libnetcdf                 4.9.2           nompi_h5bdc103_116    conda-forge\n",
      "libogg                    1.3.5                h2466b09_0    conda-forge\n",
      "libopus                   1.3.1                h8ffe710_1    conda-forge\n",
      "libpng                    1.6.47               had7236b_0    conda-forge\n",
      "libprotobuf               5.29.3               he9d8c4a_0    conda-forge\n",
      "libre2-11                 2024.07.02           hd248061_3    conda-forge\n",
      "librsvg                   2.58.4               h5ce5fed_2    conda-forge\n",
      "librttopo                 1.1.0               hbfc9ebc_18    conda-forge\n",
      "libsodium                 1.0.20               hc70643c_0    conda-forge\n",
      "libspatialite             5.1.0               h378fb81_14    conda-forge\n",
      "libsqlite                 3.49.1               h67fdade_2    conda-forge\n",
      "libssh2                   1.11.1               he619c9f_0    conda-forge\n",
      "libtiff                   4.7.0                h797046b_3    conda-forge\n",
      "libusb                    1.0.28               h2466b09_0    conda-forge\n",
      "libvorbis                 1.3.7                h0e60522_0    conda-forge\n",
      "libwebp-base              1.5.0                h3b0e114_0    conda-forge\n",
      "libwinpthread             12.0.0.r4.gg4f2fc60ca      h57928b3_9    conda-forge\n",
      "libxcb                    1.17.0               h0e4246c_0    conda-forge\n",
      "libxml2                   2.13.6               he286e8c_0    conda-forge\n",
      "libzip                    1.11.2               h3135430_0    conda-forge\n",
      "libzlib                   1.3.1                h2466b09_2    conda-forge\n",
      "logzero                   1.7.0           py310h5588dad_6    conda-forge\n",
      "lz4-c                     1.10.0               h2466b09_1    conda-forge\n",
      "lzo                       2.10              hcfcfb64_1001    conda-forge\n",
      "mapclassify               2.8.1              pyhd8ed1ab_1    conda-forge\n",
      "markupsafe                3.0.2           py310h38315fa_1    conda-forge\n",
      "matplotlib-base           3.10.1          py310h37e0a56_0    conda-forge\n",
      "matplotlib-inline         0.1.7              pyhd8ed1ab_1    conda-forge\n",
      "minizip                   4.0.7                h9fa1bad_3    conda-forge\n",
      "mistune                   3.1.3              pyh29332c3_0    conda-forge\n",
      "mkl                       2024.2.2            h66d3029_15    conda-forge\n",
      "multidict                 6.2.0           py310h38315fa_0    conda-forge\n",
      "munkres                   1.1.4              pyh9f0ad1d_0    conda-forge\n",
      "narwhals                  1.31.0             pyhd8ed1ab_0    conda-forge\n",
      "nbclient                  0.10.2             pyhd8ed1ab_0    conda-forge\n",
      "nbconvert-core            7.16.6             pyh29332c3_0    conda-forge\n",
      "nbformat                  5.10.4             pyhd8ed1ab_1    conda-forge\n",
      "nest-asyncio              1.6.0              pyhd8ed1ab_1    conda-forge\n",
      "netcdf4                   1.7.2           nompi_py310h39c5739_101    conda-forge\n",
      "networkx                  3.4.2              pyh267e887_2    conda-forge\n",
      "notebook                  7.3.3              pyhd8ed1ab_0    conda-forge\n",
      "notebook-shim             0.2.4              pyhd8ed1ab_1    conda-forge\n",
      "numpy                     2.2.4           py310h4987827_0    conda-forge\n",
      "openh264                  2.6.0                hb17fa0b_0    conda-forge\n",
      "openjpeg                  2.5.3                h4d64b90_0    conda-forge\n",
      "openssl                   3.4.1                ha4e3fda_0    conda-forge\n",
      "osmnx                     2.0.1                ha770c72_0    conda-forge\n",
      "osmnx-base                2.0.1              pyhd8ed1ab_0    conda-forge\n",
      "overrides                 7.7.0              pyhd8ed1ab_1    conda-forge\n",
      "packaging                 24.2               pyhd8ed1ab_2    conda-forge\n",
      "pandas                    2.2.3           py310hb4db72f_1    conda-forge\n",
      "pandocfilters             1.5.0              pyhd8ed1ab_0    conda-forge\n",
      "pango                     1.56.3               h286b592_0    conda-forge\n",
      "parso                     0.8.4              pyhd8ed1ab_1    conda-forge\n",
      "patsy                     1.0.1              pyhd8ed1ab_1    conda-forge\n",
      "pcre2                     10.44                h3d7b363_2    conda-forge\n",
      "pickleshare               0.7.5           pyhd8ed1ab_1004    conda-forge\n",
      "pillow                    11.1.0          py310h9595edc_0    conda-forge\n",
      "pip                       25.0.1             pyh8b19718_0    conda-forge\n",
      "pixman                    0.44.2               had0cd8c_0    conda-forge\n",
      "pkgutil-resolve-name      1.3.10             pyhd8ed1ab_2    conda-forge\n",
      "platformdirs              4.3.7              pyh29332c3_0    conda-forge\n",
      "plotly                    6.0.1              pyhd8ed1ab_0    conda-forge\n",
      "proj                      9.6.0                h4f671f6_0    conda-forge\n",
      "prometheus_client         0.21.1             pyhd8ed1ab_0    conda-forge\n",
      "prompt-toolkit            3.0.50             pyha770c72_0    conda-forge\n",
      "prompt_toolkit            3.0.50               hd8ed1ab_0    conda-forge\n",
      "propcache                 0.2.1           py310h38315fa_1    conda-forge\n",
      "proto-plus                1.26.1             pyhd8ed1ab_0    conda-forge\n",
      "protobuf                  5.29.3          py310h9e98ed7_0    conda-forge\n",
      "psutil                    7.0.0           py310ha8f682b_0    conda-forge\n",
      "pthread-stubs             0.4               h0e40799_1002    conda-forge\n",
      "pure_eval                 0.2.3              pyhd8ed1ab_1    conda-forge\n",
      "pyasn1                    0.6.1              pyhd8ed1ab_2    conda-forge\n",
      "pyasn1-modules            0.4.1              pyhd8ed1ab_1    conda-forge\n",
      "pycparser                 2.22               pyh29332c3_1    conda-forge\n",
      "pycrs                     1.0.2              pyhd8ed1ab_1    conda-forge\n",
      "pygments                  2.19.1             pyhd8ed1ab_0    conda-forge\n",
      "pyogrio                   0.10.0          py310hf80745b_1    conda-forge\n",
      "pyopenssl                 25.0.0             pyhd8ed1ab_0    conda-forge\n",
      "pyparsing                 3.2.1              pyhd8ed1ab_0    conda-forge\n",
      "pyperclip                 1.9.0              pyh7428d3b_3    conda-forge\n",
      "pyproj                    3.7.1           py310h61ea1ad_1    conda-forge\n",
      "pyshp                     2.3.1              pyhd8ed1ab_1    conda-forge\n",
      "pysocks                   1.7.1              pyh09c184e_7    conda-forge\n",
      "python                    3.10.16         h37870fc_1_cpython    conda-forge\n",
      "python-box                7.3.2           py310ha8f682b_0    conda-forge\n",
      "python-dateutil           2.9.0.post0        pyhff2d567_1    conda-forge\n",
      "python-fastjsonschema     2.21.1             pyhd8ed1ab_0    conda-forge\n",
      "python-json-logger        2.0.7              pyhd8ed1ab_0    conda-forge\n",
      "python-tzdata             2025.1             pyhd8ed1ab_0    conda-forge\n",
      "python_abi                3.10                    5_cp310    conda-forge\n",
      "pytz                      2024.1             pyhd8ed1ab_0    conda-forge\n",
      "pyu2f                     0.1.5              pyhd8ed1ab_1    conda-forge\n",
      "pywin32                   307             py310h9e98ed7_3    conda-forge\n",
      "pywinpty                  2.0.15          py310h9e98ed7_0    conda-forge\n",
      "pyyaml                    6.0.2           py310h38315fa_2    conda-forge\n",
      "pyzmq                     26.3.0          py310h656833d_0    conda-forge\n",
      "qhull                     2020.2               hc790b64_5    conda-forge\n",
      "rasterio                  1.4.3           py310h5977aad_1    conda-forge\n",
      "rasterstats               0.20.0             pyhd8ed1ab_1    conda-forge\n",
      "ratelim                   0.1.6              pyhd8ed1ab_3    conda-forge\n",
      "rav1e                     0.6.6                h975169c_2    conda-forge\n",
      "re2                       2024.07.02           haf4117d_3    conda-forge\n",
      "referencing               0.36.2             pyh29332c3_0    conda-forge\n",
      "requests                  2.32.3             pyhd8ed1ab_1    conda-forge\n",
      "rfc3339-validator         0.1.4              pyhd8ed1ab_1    conda-forge\n",
      "rfc3986-validator         0.1.1              pyh9f0ad1d_0    conda-forge\n",
      "rio-vrt                   0.3.1              pyhd8ed1ab_1    conda-forge\n",
      "rpds-py                   0.23.1          py310h7c79e54_0    conda-forge\n",
      "rsa                       4.9                pyhd8ed1ab_1    conda-forge\n",
      "ruamel.yaml               0.18.10         py310ha8f682b_0    conda-forge\n",
      "ruamel.yaml.clib          0.2.8           py310ha8f682b_1    conda-forge\n",
      "sankee                    0.2.5              pyhd8ed1ab_1    conda-forge\n",
      "scikit-learn              1.6.1           py310hf2a6c47_0    conda-forge\n",
      "scipy                     1.15.2          py310h15c175c_0    conda-forge\n",
      "scooby                    0.10.0             pyhd8ed1ab_1    conda-forge\n",
      "sdl2                      2.32.50              hecf2515_1    conda-forge\n",
      "sdl3                      3.2.8                he0c23c2_0    conda-forge\n",
      "seaborn                   0.13.2               hd8ed1ab_3    conda-forge\n",
      "seaborn-base              0.13.2             pyhd8ed1ab_3    conda-forge\n",
      "send2trash                1.8.3              pyh5737063_1    conda-forge\n",
      "setuptools                75.8.2             pyhff2d567_0    conda-forge\n",
      "shapely                   2.0.7           py310hb052cae_1    conda-forge\n",
      "simplejson                3.20.1          py310ha8f682b_0    conda-forge\n",
      "six                       1.17.0             pyhd8ed1ab_0    conda-forge\n",
      "snappy                    1.2.1                h500f7fa_1    conda-forge\n",
      "sniffio                   1.3.1              pyhd8ed1ab_1    conda-forge\n",
      "snuggs                    1.4.7              pyhd8ed1ab_2    conda-forge\n",
      "soupsieve                 2.5                pyhd8ed1ab_1    conda-forge\n",
      "sqlite                    3.49.1               h2466b09_2    conda-forge\n",
      "stack_data                0.6.3              pyhd8ed1ab_1    conda-forge\n",
      "statsmodels               0.14.4          py310hb0944cc_0    conda-forge\n",
      "svt-av1                   3.0.1                he0c23c2_0    conda-forge\n",
      "tbb                       2021.13.0            h62715c5_1    conda-forge\n",
      "terminado                 0.18.1             pyh5737063_0    conda-forge\n",
      "threadpoolctl             3.6.0              pyhecae5ae_0    conda-forge\n",
      "tinycss2                  1.4.0              pyhd8ed1ab_0    conda-forge\n",
      "tk                        8.6.13               h5226925_1    conda-forge\n",
      "toml                      0.10.2             pyhd8ed1ab_1    conda-forge\n",
      "tomli                     2.2.1              pyhd8ed1ab_1    conda-forge\n",
      "tornado                   6.4.2           py310ha8f682b_0    conda-forge\n",
      "tqdm                      4.67.1             pyhd8ed1ab_1    conda-forge\n",
      "traitlets                 5.14.3             pyhd8ed1ab_1    conda-forge\n",
      "traittypes                0.2.1              pyh9f0ad1d_2    conda-forge\n",
      "types-python-dateutil     2.9.0.20241206     pyhd8ed1ab_0    conda-forge\n",
      "typing-extensions         4.12.2               hd8ed1ab_1    conda-forge\n",
      "typing_extensions         4.12.2             pyha770c72_1    conda-forge\n",
      "typing_utils              0.1.0              pyhd8ed1ab_1    conda-forge\n",
      "tzdata                    2025a                h78e105d_0    conda-forge\n",
      "ucrt                      10.0.22621.0         h57928b3_1    conda-forge\n",
      "unicodedata2              16.0.0          py310ha8f682b_0    conda-forge\n",
      "uri-template              1.3.0              pyhd8ed1ab_1    conda-forge\n",
      "uriparser                 0.9.8                h5a68840_0    conda-forge\n",
      "uritemplate               4.1.1              pyhd8ed1ab_1    conda-forge\n",
      "urllib3                   2.3.0              pyhd8ed1ab_0    conda-forge\n",
      "vc                        14.3                hbf610ac_24    conda-forge\n",
      "vc14_runtime              14.42.34438         hfd919c2_24    conda-forge\n",
      "vs2015_runtime            14.42.34438         h7142326_24    conda-forge\n",
      "wcwidth                   0.2.13             pyhd8ed1ab_1    conda-forge\n",
      "webcolors                 24.11.1            pyhd8ed1ab_0    conda-forge\n",
      "webencodings              0.5.1              pyhd8ed1ab_3    conda-forge\n",
      "websocket-client          1.8.0              pyhd8ed1ab_1    conda-forge\n",
      "wheel                     0.45.1             pyhd8ed1ab_1    conda-forge\n",
      "whitebox                  2.3.6              pyhd8ed1ab_0    conda-forge\n",
      "whiteboxgui               2.3.0              pyhd8ed1ab_1    conda-forge\n",
      "widgetsnbextension        4.0.13             pyhd8ed1ab_1    conda-forge\n",
      "win_inet_pton             1.1.0              pyh7428d3b_8    conda-forge\n",
      "winpty                    0.4.3                         4    conda-forge\n",
      "x264                      1!164.3095           h8ffe710_2    conda-forge\n",
      "x265                      3.5                  h2d74725_3    conda-forge\n",
      "xarray                    2025.3.0           pyhd8ed1ab_0    conda-forge\n",
      "xerces-c                  3.2.5                he0c23c2_2    conda-forge\n",
      "xorg-libx11               1.8.12               hf48077a_0    conda-forge\n",
      "xorg-libxau               1.0.12               h0e40799_0    conda-forge\n",
      "xorg-libxdmcp             1.1.5                h0e40799_0    conda-forge\n",
      "xyzservices               2025.1.0           pyhd8ed1ab_0    conda-forge\n",
      "yaml                      0.2.5                h8ffe710_2    conda-forge\n",
      "yarl                      1.18.3          py310h38315fa_1    conda-forge\n",
      "zeromq                    4.3.5                ha9f60a1_7    conda-forge\n",
      "zipp                      3.21.0             pyhd8ed1ab_1    conda-forge\n",
      "zlib                      1.3.1                h2466b09_2    conda-forge\n",
      "zstandard                 0.23.0          py310ha8f682b_1    conda-forge\n",
      "zstd                      1.5.7                hbeecb71_2    conda-forge\n"
     ]
    }
   ],
   "source": [
    "!conda list"
   ]
  },
  {
   "cell_type": "code",
   "execution_count": null,
   "id": "711b0679",
   "metadata": {
    "deletable": true,
    "editable": true,
    "frozen": false
   },
   "outputs": [],
   "source": []
  },
  {
   "cell_type": "code",
   "execution_count": 12,
   "id": "39cdeb99-6272-4fcc-8451-445a8681166d",
   "metadata": {
    "deletable": true,
    "editable": true,
    "frozen": false
   },
   "outputs": [
    {
     "name": "stdout",
     "output_type": "stream",
     "text": [
      "1.0.1\n",
      "2.2.3\n",
      "POINT (1 1)\n",
      "3.7.1\n",
      "1.10.1\n",
      "1.4.3\n",
      "1.6.1\n"
     ]
    },
    {
     "data": {
      "image/png": "[encoded data removed]",
      "text/plain": [
       "<Figure size 640x480 with 1 Axes>"
      ]
     },
     "metadata": {},
     "output_type": "display_data"
    }
   ],
   "source": [
    "#GeoPandas\n",
    "import geopandas as gpd\n",
    "print(gpd.__version__)\n",
    "\n",
    "#Pandas\n",
    "import pandas as pd\n",
    "print(pd.__version__)\n",
    "\n",
    "#Shapely (for geometric operations)\n",
    "from shapely.geometry import Point, Polygon\n",
    "p = Point(1, 1)\n",
    "print(p)\n",
    "\n",
    "#Pyproj (for projections)\n",
    "import pyproj\n",
    "print(pyproj.__version__)\n",
    "\n",
    "#Pyogrio (alternative to Fiona for reading/writing data)\n",
    "import pyogrio\n",
    "\n",
    "#Fiona (for file I/O)\n",
    "import fiona\n",
    "print(fiona.__version__)\n",
    "\n",
    "#2. Raster Data Packages:\n",
    "#Rasterio (for reading and writing raster data)\n",
    "import rasterio\n",
    "print(rasterio.__version__)\n",
    "\n",
    "#Rasterstats (for summarizing raster data)\n",
    "import rasterstats\n",
    "\n",
    "#NetCDF4 (for working with NetCDF data)\n",
    "import netCDF4\n",
    "\n",
    "#Xarray (for labeled multi-dimensional arrays)\n",
    "import xarray\n",
    "\n",
    "# 3. Plotting & Visualization:\n",
    "#Matplotlib (for creating plots)\n",
    "import matplotlib.pyplot as plt\n",
    "\n",
    "#Folium (for interactive maps)\n",
    "import folium\n",
    "\n",
    "#Mapclassify (for classification in mapping)\n",
    "import mapclassify\n",
    "\n",
    "# 4. Machine Learning & Scientific Computation:\n",
    "#Scikit-learn (for machine learning models)\n",
    "import sklearn\n",
    "print(sklearn.__version__)\n",
    "\n",
    "#SciPy (for scientific computations)\n",
    "import scipy\n",
    "\n",
    "#5. Other Useful Libraries:\n",
    "#Joblib (for parallel computing and caching)\n",
    "import joblib\n",
    "\n",
    "#Requests (for making HTTP requests)\n",
    "import requests\n",
    "\n",
    "#Xyzservices (for geospatial web services)\n",
    "import xyzservices\n",
    "\n",
    "#simple plot with Matplotlib:\n",
    "import matplotlib.pyplot as plt\n",
    "\n",
    "# Simple plot\n",
    "plt.plot([1, 2, 3, 4], [1, 4, 9, 16])\n",
    "plt.show()\n",
    "\n",
    "#Or create a simple map with Folium:\n",
    "import folium\n",
    "\n",
    "# Create a map centered on a location\n",
    "m = folium.Map(location=[51.5074, -0.1278], zoom_start=10)  # London coordinates\n",
    "#m.save(\"map.html\")  # Save the map as an HTML file to open in a browser\n"
   ]
  },
  {
   "cell_type": "code",
   "execution_count": 13,
   "id": "1ea155bb-f67b-4670-b246-604071cd0f1d",
   "metadata": {
    "deletable": true,
    "editable": true,
    "frozen": false
   },
   "outputs": [],
   "source": [
    "# uncomment to show the interactive map\n",
    "#m"
   ]
  },
  {
   "cell_type": "code",
   "execution_count": null,
   "id": "a7b73e1b-7abb-4bfe-b9b8-b548939c9732",
   "metadata": {
    "deletable": true,
    "editable": true,
    "frozen": false
   },
   "outputs": [],
   "source": []
  },
  {
   "cell_type": "code",
   "execution_count": 14,
   "id": "c45e2791-301c-452c-8efc-cd619c346a07",
   "metadata": {
    "deletable": true,
    "editable": true,
    "frozen": false
   },
   "outputs": [],
   "source": [
    "import geemap\n",
    "import osmnx as ox\n",
    "import ee\n",
    "import jupyter_leaflet"
   ]
  },
  {
   "cell_type": "code",
   "execution_count": 15,
   "id": "7d4a2d29-abe7-45ac-ab77-d1027b7e9b95",
   "metadata": {
    "deletable": true,
    "editable": true,
    "frozen": false
   },
   "outputs": [
    {
     "data": {
      "text/html": [
       "\n",
       "            <style>\n",
       "                .geemap-dark {\n",
       "                    --jp-widgets-color: white;\n",
       "                    --jp-widgets-label-color: white;\n",
       "                    --jp-ui-font-color1: white;\n",
       "                    --jp-layout-color2: #454545;\n",
       "                    background-color: #383838;\n",
       "                }\n",
       "\n",
       "                .geemap-dark .jupyter-button {\n",
       "                    --jp-layout-color3: #383838;\n",
       "                }\n",
       "\n",
       "                .geemap-colab {\n",
       "                    background-color: var(--colab-primary-surface-color, white);\n",
       "                }\n",
       "\n",
       "                .geemap-colab .jupyter-button {\n",
       "                    --jp-layout-color3: var(--colab-primary-surface-color, white);\n",
       "                }\n",
       "            </style>\n",
       "            "
      ],
      "text/plain": [
       "<IPython.core.display.HTML object>"
      ]
     },
     "metadata": {},
     "output_type": "display_data"
    }
   ],
   "source": [
    "ee.Authenticate()\n",
    "ee.Initialize()"
   ]
  },
  {
   "cell_type": "code",
   "execution_count": 16,
   "id": "8ee81616-4255-4863-8b75-5402802f5f6e",
   "metadata": {
    "deletable": true,
    "editable": true,
    "frozen": false
   },
   "outputs": [
    {
     "data": {
      "text/html": [
       "\n",
       "            <style>\n",
       "                .geemap-dark {\n",
       "                    --jp-widgets-color: white;\n",
       "                    --jp-widgets-label-color: white;\n",
       "                    --jp-ui-font-color1: white;\n",
       "                    --jp-layout-color2: #454545;\n",
       "                    background-color: #383838;\n",
       "                }\n",
       "\n",
       "                .geemap-dark .jupyter-button {\n",
       "                    --jp-layout-color3: #383838;\n",
       "                }\n",
       "\n",
       "                .geemap-colab {\n",
       "                    background-color: var(--colab-primary-surface-color, white);\n",
       "                }\n",
       "\n",
       "                .geemap-colab .jupyter-button {\n",
       "                    --jp-layout-color3: var(--colab-primary-surface-color, white);\n",
       "                }\n",
       "            </style>\n",
       "            "
      ],
      "text/plain": [
       "<IPython.core.display.HTML object>"
      ]
     },
     "metadata": {},
     "output_type": "display_data"
    },
    {
     "data": {
      "application/vnd.jupyter.widget-view+json": {
       "model_id": "6e9b9eb44d08432a8875518561502cfb",
       "version_major": 2,
       "version_minor": 0
      },
      "text/plain": [
       "Map(center=[40.7128, -74.006], controls=(WidgetControl(options=['position', 'transparent_bg'], widget=SearchDa…"
      ]
     },
     "execution_count": 16,
     "metadata": {},
     "output_type": "execute_result"
    }
   ],
   "source": [
    "# Create a simple map\n",
    "Map = geemap.Map()\n",
    "\n",
    "# Add a basemap\n",
    "Map.add_basemap('SATELLITE')\n",
    "\n",
    "# Set the center of the map (New York City)\n",
    "Map.centerObject(ee.Geometry.Point([-74.0060, 40.7128]), zoom=10)\n",
    "\n",
    "# Display the map\n",
    "Map"
   ]
  },
  {
   "cell_type": "code",
   "execution_count": null,
   "id": "7d81978c-f555-4665-ad10-b720ae3be8ee",
   "metadata": {
    "deletable": true,
    "editable": true,
    "frozen": false
   },
   "outputs": [],
   "source": []
  },
  {
   "cell_type": "code",
   "execution_count": 17,
   "id": "9ff7aeda-0e37-4896-a547-aeafc53d9cab",
   "metadata": {
    "deletable": true,
    "editable": true,
    "frozen": false
   },
   "outputs": [
    {
     "data": {
      "text/html": [
       "\n",
       "            <style>\n",
       "                .geemap-dark {\n",
       "                    --jp-widgets-color: white;\n",
       "                    --jp-widgets-label-color: white;\n",
       "                    --jp-ui-font-color1: white;\n",
       "                    --jp-layout-color2: #454545;\n",
       "                    background-color: #383838;\n",
       "                }\n",
       "\n",
       "                .geemap-dark .jupyter-button {\n",
       "                    --jp-layout-color3: #383838;\n",
       "                }\n",
       "\n",
       "                .geemap-colab {\n",
       "                    background-color: var(--colab-primary-surface-color, white);\n",
       "                }\n",
       "\n",
       "                .geemap-colab .jupyter-button {\n",
       "                    --jp-layout-color3: var(--colab-primary-surface-color, white);\n",
       "                }\n",
       "            </style>\n",
       "            "
      ],
      "text/plain": [
       "<IPython.core.display.HTML object>"
      ]
     },
     "metadata": {},
     "output_type": "display_data"
    },
    {
     "name": "stdout",
     "output_type": "stream",
     "text": [
      "3.7.1\n"
     ]
    }
   ],
   "source": [
    "import pyproj\n",
    "print(pyproj.__version__)"
   ]
  },
  {
   "cell_type": "code",
   "execution_count": 18,
   "id": "7025040c-9cec-462a-b77e-09352bdb1e68",
   "metadata": {
    "deletable": true,
    "editable": true,
    "frozen": false
   },
   "outputs": [
    {
     "data": {
      "text/html": [
       "\n",
       "            <style>\n",
       "                .geemap-dark {\n",
       "                    --jp-widgets-color: white;\n",
       "                    --jp-widgets-label-color: white;\n",
       "                    --jp-ui-font-color1: white;\n",
       "                    --jp-layout-color2: #454545;\n",
       "                    background-color: #383838;\n",
       "                }\n",
       "\n",
       "                .geemap-dark .jupyter-button {\n",
       "                    --jp-layout-color3: #383838;\n",
       "                }\n",
       "\n",
       "                .geemap-colab {\n",
       "                    background-color: var(--colab-primary-surface-color, white);\n",
       "                }\n",
       "\n",
       "                .geemap-colab .jupyter-button {\n",
       "                    --jp-layout-color3: var(--colab-primary-surface-color, white);\n",
       "                }\n",
       "            </style>\n",
       "            "
      ],
      "text/plain": [
       "<IPython.core.display.HTML object>"
      ]
     },
     "metadata": {},
     "output_type": "display_data"
    },
    {
     "data": {
      "text/plain": [
       "'D:\\\\GeoSpatial\\\\anaconda3\\\\envs\\\\geo_env_20250322\\\\Library\\\\share\\\\proj'"
      ]
     },
     "execution_count": 18,
     "metadata": {},
     "output_type": "execute_result"
    }
   ],
   "source": [
    " pyproj.datadir.get_data_dir()"
   ]
  },
  {
   "cell_type": "code",
   "execution_count": null,
   "id": "f4dd1186-43a3-4e07-8c40-59bc82dad6aa",
   "metadata": {
    "deletable": true,
    "editable": true,
    "frozen": false
   },
   "outputs": [],
   "source": []
  }
 ],
 "metadata": {
  "kernelspec": {
   "display_name": "Python (geo_env_20250322)",
   "language": "python",
   "name": "geo_env_20250322"
  },
  "language_info": {
   "codemirror_mode": {
    "name": "ipython",
    "version": 3
   },
   "file_extension": ".py",
   "mimetype": "text/x-python",
   "name": "python",
   "nbconvert_exporter": "python",
   "pygments_lexer": "ipython3",
   "version": "3.10.16"
  }
 },
 "nbformat": 4,
 "nbformat_minor": 5
}
